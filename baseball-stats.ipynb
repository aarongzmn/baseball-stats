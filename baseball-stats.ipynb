{
 "cells": [
  {
   "cell_type": "markdown",
   "metadata": {},
   "source": [
    "# (Unofficial) Baseball Stats API\n",
    "\n",
    "## Goal: Excel spreadsheet that has last 10 sesasons stats for all players\n",
    "- If you want to only look at last years stats, you can filter by '2021'\n",
    "- If you want to look at a players career stats, you can filter by player/player_id"
   ]
  },
  {
   "cell_type": "code",
   "execution_count": null,
   "metadata": {},
   "outputs": [],
   "source": [
    "from baseball import Baseball\n",
    "\n",
    "\n",
    "player_id"
   ]
  },
  {
   "cell_type": "code",
   "execution_count": null,
   "metadata": {},
   "outputs": [],
   "source": [
    "player_data"
   ]
  },
  {
   "cell_type": "code",
   "execution_count": null,
   "metadata": {},
   "outputs": [],
   "source": [
    "player_details = Baseball().player_data.get_player_details(\"493316\")\n",
    "player_details"
   ]
  },
  {
   "cell_type": "code",
   "execution_count": null,
   "metadata": {},
   "outputs": [],
   "source": [
    "search_results = stats.search_player_all(\"Trea Turner\")\n",
    "\n",
    "player_id = search_results[0].get(\"player_id\")\n",
    "player_info = stats.player_info(player_id)\n",
    "\n",
    "player_info"
   ]
  },
  {
   "cell_type": "code",
   "execution_count": null,
   "metadata": {},
   "outputs": [],
   "source": [
    "import requests\n",
    "from urllib.parse import urlencode, quote_plus\n",
    "from baseball import Baseball\n",
    "\n",
    "\n",
    "player_data = Baseball().player_data.search_for_players(\"Aaron Judge\")\n",
    "player_id = player_data[0][\"player_id\"]\n",
    "\n",
    "params = {}\n",
    "params[\"player_id\"] = player_id\n",
    "params[\"game_type\"] = f\"'R'\"\n",
    "params[\"season\"] = \"2015\"\n",
    "params[\"league_list_id\"] = \"'mlb'\"\n",
    "\n",
    "encoded_params = urlencode(params, quote_via=quote_plus)\n",
    "\n",
    "url = f\"http://lookup-service-prod.mlb.com/json/named.sport_hitting_tm.bam?{encoded_params}\"\n",
    "r = requests.get(url)\n",
    "r.json()[\"sport_hitting_tm\"][\"queryResults\"].get(\"row\")"
   ]
  },
  {
   "cell_type": "markdown",
   "metadata": {},
   "source": [
    "### Get year by year stats by player name"
   ]
  },
  {
   "cell_type": "code",
   "execution_count": null,
   "metadata": {},
   "outputs": [],
   "source": [
    "from baseball import Baseball\n",
    "import pandas as pd\n",
    "\n",
    "\n",
    "player_data = Baseball().player_data.search_for_players(\"Christian Yelich\")\n",
    "player_id = player_data[0][\"player_id\"]\n",
    "\n",
    "\n",
    "seasons = [\"2021\", \"2020\", \"2019\", \"2018\", \"2017\", \"2016\"]\n",
    "\n",
    "player_stats = []\n",
    "for year in seasons:\n",
    "    hitting_stats = Baseball().stats_data.season_hitting_stats(player_id, season=year)\n",
    "    if hitting_stats is None:\n",
    "        break\n",
    "    else:\n",
    "        player_stats.append(hitting_stats)\n",
    "\n",
    "df = pd.DataFrame(player_stats)\n",
    "df\n"
   ]
  },
  {
   "cell_type": "markdown",
   "metadata": {},
   "source": [
    "### Get Teams by Season"
   ]
  },
  {
   "cell_type": "code",
   "execution_count": null,
   "metadata": {},
   "outputs": [],
   "source": [
    "from baseball import api\n",
    "\n",
    "\n",
    "season_teams = api.TeamData().get_teams_by_season(\"2022\")\n",
    "season_teams\n"
   ]
  },
  {
   "cell_type": "code",
   "execution_count": null,
   "metadata": {},
   "outputs": [],
   "source": [
    "api.TeamData().get_teams_by_season(\"2022\")"
   ]
  },
  {
   "cell_type": "code",
   "execution_count": null,
   "metadata": {},
   "outputs": [],
   "source": [
    "import pandas as pd\n",
    "\n",
    "\n",
    "df = pd.DataFrame(season_teams)\n",
    "df"
   ]
  },
  {
   "cell_type": "markdown",
   "metadata": {},
   "source": [
    "### Get 40 man roster"
   ]
  },
  {
   "cell_type": "code",
   "execution_count": null,
   "metadata": {},
   "outputs": [],
   "source": [
    "import pandas as pd\n",
    "\n",
    "\n",
    "df = pd.DataFrame(mlb_roster)\n",
    "df.to_excel(\"mlb_roster.xlsx\")"
   ]
  },
  {
   "cell_type": "code",
   "execution_count": null,
   "metadata": {},
   "outputs": [],
   "source": [
    "from baseball import api\n",
    "from tqdm import tqdm, trange\n",
    "from datetime import datetime, date\n",
    "import time\n",
    "\n",
    "\n",
    "def calculate_age(birth_date, season_year):\n",
    "    today = date(year=int(season_year), month=4, day=1)\n",
    "    age = today.year - birth_date.year - ((today.month, today.day) < (birth_date.month, birth_date.day))\n",
    "    return age\n",
    "\n",
    "\n",
    "\n",
    "team_list = api.TeamData().get_teams_by_season(\"2022\")\n",
    "\n",
    "mlb_roster = []\n",
    "for team in trange(len(team_list)):\n",
    "    team_id = team_list[team].get(\"team_id\")\n",
    "    team_roster = api.TeamData().get_40_man_roster(team_id)\n",
    "    mlb_roster.extend(team_roster)\n",
    "    time.sleep(.1)\n",
    "\n",
    "print(f\"Found {len(mlb_roster)} total players.\")\n",
    "\n",
    "seasons = [\"2022\", \"2021\", \"2020\", \"2019\", \"2018\", \"2017\", \"2016\"]\n",
    "\n",
    "all_stats = []\n",
    "for player in trange(len(mlb_roster)):\n",
    "    player_position = mlb_roster[player][\"position_txt\"]\n",
    "    if player_position == \"P\":\n",
    "        time.sleep(.25)\n",
    "        continue\n",
    "    else:\n",
    "        player_id = mlb_roster[player][\"player_id\"]\n",
    "        player_name = mlb_roster[player][\"name_display_first_last\"]\n",
    "        player_debut = mlb_roster[player][\"pro_debut_date\"][0:4]\n",
    "\n",
    "        birth_date_str = mlb_roster[player][\"birth_date\"][0:10]\n",
    "        birth_date_dt = datetime.strptime(birth_date_str, \"%Y-%m-%d\")\n",
    "        for year in seasons:\n",
    "            if year == \"2022\":\n",
    "                year_stats = {\n",
    "                    'team_id': mlb_roster[player][\"team_id\"],\n",
    "                    'season': '2022',\n",
    "                    'sport_code': 'mlb',\n",
    "                    'team_full': mlb_roster[player][\"team_name\"],\n",
    "                    'team_abbrev': mlb_roster[player][\"team_abbrev\"],\n",
    "                    'player_id': mlb_roster[player][\"player_id\"],\n",
    "                    'sport': 'MLB',\n",
    "                    'player_name': mlb_roster[player][\"name_display_first_last\"],\n",
    "                    'player_age': calculate_age(birth_date_dt, year)\n",
    "                }\n",
    "                all_stats.append(year_stats)\n",
    "                continue\n",
    "\n",
    "            if player_debut == \"\" or int(year) < int(player_debut):\n",
    "                break\n",
    "            else:\n",
    "                year_stats = api.StatsData().season_hitting_stats(player_id, year)\n",
    "                if year_stats is None:\n",
    "                    continue\n",
    "                if type(year_stats) == list:\n",
    "                    for i in year_stats:\n",
    "                        i[\"player_age\"] = calculate_age(birth_date_dt, year)\n",
    "                        i[\"player_name\"] = player_name\n",
    "                    all_stats.extend(year_stats)\n",
    "                else:\n",
    "                    year_stats[\"player_age\"] = calculate_age(birth_date_dt, year)\n",
    "                    year_stats[\"player_name\"] = player_name\n",
    "                    all_stats.append(year_stats)\n",
    "    time.sleep(.25)\n",
    "\n",
    "len(all_stats)"
   ]
  },
  {
   "cell_type": "code",
   "execution_count": null,
   "metadata": {},
   "outputs": [],
   "source": [
    "import pandas as pd\n",
    "\n",
    "\n",
    "df = pd.DataFrame(mlb_roster)\n",
    "df.to_excel(\"mlb_roster.xlsx\")\n"
   ]
  },
  {
   "cell_type": "code",
   "execution_count": null,
   "metadata": {},
   "outputs": [],
   "source": []
  }
 ],
 "metadata": {
  "interpreter": {
   "hash": "5cb4c5a19cdfdb0bed0268ea814c514807ee9e7440f691fbb4fb5e0f945f1cd4"
  },
  "kernelspec": {
   "display_name": "Python 3.9.6 64-bit",
   "language": "python",
   "name": "python3"
  },
  "language_info": {
   "codemirror_mode": {
    "name": "ipython",
    "version": 3
   },
   "file_extension": ".py",
   "mimetype": "text/x-python",
   "name": "python",
   "nbconvert_exporter": "python",
   "pygments_lexer": "ipython3",
   "version": "3.9.6"
  },
  "orig_nbformat": 4
 },
 "nbformat": 4,
 "nbformat_minor": 2
}
