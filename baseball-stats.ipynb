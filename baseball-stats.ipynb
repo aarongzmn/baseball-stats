{
 "cells": [
  {
   "cell_type": "markdown",
   "metadata": {},
   "source": [
    "# (Unofficial) Baseball Stats API"
   ]
  },
  {
   "cell_type": "code",
   "execution_count": null,
   "metadata": {},
   "outputs": [],
   "source": [
    "from baseball import Baseball\n",
    "\n",
    "\n",
    "player_id"
   ]
  },
  {
   "cell_type": "code",
   "execution_count": null,
   "metadata": {},
   "outputs": [],
   "source": [
    "player_data"
   ]
  },
  {
   "cell_type": "code",
   "execution_count": null,
   "metadata": {},
   "outputs": [],
   "source": [
    "player_details = Baseball().player_data.get_player_details(\"493316\")\n",
    "player_details"
   ]
  },
  {
   "cell_type": "code",
   "execution_count": null,
   "metadata": {},
   "outputs": [],
   "source": [
    "search_results = stats.search_player_all(\"Trea Turner\")\n",
    "\n",
    "player_id = search_results[0].get(\"player_id\")\n",
    "player_info = stats.player_info(player_id)\n",
    "\n",
    "player_info"
   ]
  },
  {
   "cell_type": "code",
   "execution_count": null,
   "metadata": {},
   "outputs": [],
   "source": [
    "import requests\n",
    "\n",
    "\n",
    "url = \"http://lookup-service-prod.mlb.com/json/named.sport_hitting_tm.bam?league_list_id='mlb'&game_type='R'&season='2017'&player_id='592450'\"\n",
    "r = requests.get(url)\n",
    "r.json()"
   ]
  },
  {
   "cell_type": "code",
   "execution_count": 2,
   "metadata": {},
   "outputs": [
    {
     "data": {
      "text/plain": [
       "{'totalSize': '1',\n",
       " 'created': '2022-03-26T06:22:03',\n",
       " 'row': {'sport_id': '1',\n",
       "  'league_short': 'American',\n",
       "  'hr': '9',\n",
       "  'team_id': '147',\n",
       "  'season': '2020',\n",
       "  'ab': '101',\n",
       "  'hldr': '13',\n",
       "  'league': 'AL',\n",
       "  'sport_code': 'mlb',\n",
       "  'ao': '21',\n",
       "  'slg': '.554',\n",
       "  'team_full': 'New York Yankees',\n",
       "  'ops': '.891',\n",
       "  'team_abbrev': 'NYY',\n",
       "  'hbp': '2',\n",
       "  'rbi': '22',\n",
       "  'go_ao': '1.05',\n",
       "  'hfly': '8',\n",
       "  'lob': '49',\n",
       "  'xbh': '12',\n",
       "  'end_date': '2021-07-16T00:00:00',\n",
       "  'bb': '10',\n",
       "  'np': '487',\n",
       "  'hgnd': '5',\n",
       "  'roe': '2',\n",
       "  'sb': '0',\n",
       "  'player_id': '592450',\n",
       "  'avg': '.257',\n",
       "  'sf': '0',\n",
       "  'sac': '0',\n",
       "  'wo': '0',\n",
       "  'team_short': 'NY Yankees',\n",
       "  'hpop': '0',\n",
       "  'so': '32',\n",
       "  'gidp_opp': '21',\n",
       "  'gidp': '5',\n",
       "  'ppa': '4.27',\n",
       "  'd': '3',\n",
       "  'tpa': '114',\n",
       "  'league_full': 'American League',\n",
       "  'g': '28',\n",
       "  'h': '26',\n",
       "  'ibb': '0',\n",
       "  'go': '22',\n",
       "  'team_seq': '1.0',\n",
       "  'tb': '56',\n",
       "  'cs': '1',\n",
       "  'r': '23',\n",
       "  't': '0',\n",
       "  'babip': '.283',\n",
       "  'obp': '.336',\n",
       "  'sport': 'MLB',\n",
       "  'league_id': '103'}}"
      ]
     },
     "execution_count": 2,
     "metadata": {},
     "output_type": "execute_result"
    }
   ],
   "source": [
    "from baseball import Baseball\n",
    "\n",
    "\n",
    "player_data = Baseball().player_data.search_for_players(\"Aaron Judge\")\n",
    "player_id = player_data[0][\"player_id\"]\n",
    "\n",
    "\n",
    "hitting_stats = Baseball().stats_data.season_hitting_stats(player_id, season=\"2020\")\n",
    "hitting_stats"
   ]
  }
 ],
 "metadata": {
  "interpreter": {
   "hash": "5cb4c5a19cdfdb0bed0268ea814c514807ee9e7440f691fbb4fb5e0f945f1cd4"
  },
  "kernelspec": {
   "display_name": "Python 3.9.6 64-bit",
   "language": "python",
   "name": "python3"
  },
  "language_info": {
   "codemirror_mode": {
    "name": "ipython",
    "version": 3
   },
   "file_extension": ".py",
   "mimetype": "text/x-python",
   "name": "python",
   "nbconvert_exporter": "python",
   "pygments_lexer": "ipython3",
   "version": "3.9.6"
  },
  "orig_nbformat": 4
 },
 "nbformat": 4,
 "nbformat_minor": 2
}
