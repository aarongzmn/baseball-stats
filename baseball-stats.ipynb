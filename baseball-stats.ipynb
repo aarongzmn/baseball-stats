{
 "cells": [
  {
   "cell_type": "markdown",
   "metadata": {},
   "source": [
    "# (Unofficial) Baseball Stats API\n",
    "\n",
    "## Goal: Excel spreadsheet that has last 10 sesasons stats for all players\n",
    "- If you want to only look at last years stats, you can filter by '2021'\n",
    "- If you want to look at a players career stats, you can filter by player/player_id"
   ]
  },
  {
   "cell_type": "code",
   "execution_count": null,
   "metadata": {},
   "outputs": [],
   "source": [
    "from baseball import Baseball\n",
    "\n",
    "\n",
    "player_id"
   ]
  },
  {
   "cell_type": "code",
   "execution_count": null,
   "metadata": {},
   "outputs": [],
   "source": [
    "player_data"
   ]
  },
  {
   "cell_type": "code",
   "execution_count": null,
   "metadata": {},
   "outputs": [],
   "source": [
    "player_details = Baseball().player_data.get_player_details(\"493316\")\n",
    "player_details"
   ]
  },
  {
   "cell_type": "code",
   "execution_count": null,
   "metadata": {},
   "outputs": [],
   "source": [
    "search_results = stats.search_player_all(\"Trea Turner\")\n",
    "\n",
    "player_id = search_results[0].get(\"player_id\")\n",
    "player_info = stats.player_info(player_id)\n",
    "\n",
    "player_info"
   ]
  },
  {
   "cell_type": "code",
   "execution_count": null,
   "metadata": {},
   "outputs": [],
   "source": [
    "import requests\n",
    "from urllib.parse import urlencode, quote_plus\n",
    "from baseball import Baseball\n",
    "\n",
    "\n",
    "player_data = Baseball().player_data.search_for_players(\"Aaron Judge\")\n",
    "player_id = player_data[0][\"player_id\"]\n",
    "\n",
    "params = {}\n",
    "params[\"player_id\"] = player_id\n",
    "params[\"game_type\"] = f\"'R'\"\n",
    "params[\"season\"] = \"2015\"\n",
    "params[\"league_list_id\"] = \"'mlb'\"\n",
    "\n",
    "encoded_params = urlencode(params, quote_via=quote_plus)\n",
    "\n",
    "url = f\"http://lookup-service-prod.mlb.com/json/named.sport_hitting_tm.bam?{encoded_params}\"\n",
    "r = requests.get(url)\n",
    "r.json()[\"sport_hitting_tm\"][\"queryResults\"].get(\"row\")"
   ]
  },
  {
   "cell_type": "markdown",
   "metadata": {},
   "source": [
    "### Get year by year stats by player name"
   ]
  },
  {
   "cell_type": "code",
   "execution_count": null,
   "metadata": {},
   "outputs": [],
   "source": [
    "from baseball import Baseball\n",
    "import pandas as pd\n",
    "\n",
    "\n",
    "player_data = Baseball().player_data.search_for_players(\"Christian Yelich\")\n",
    "player_id = player_data[0][\"player_id\"]\n",
    "\n",
    "\n",
    "seasons = [\"2021\", \"2020\", \"2019\", \"2018\", \"2017\", \"2016\"]\n",
    "\n",
    "player_stats = []\n",
    "for year in seasons:\n",
    "    hitting_stats = Baseball().stats_data.season_hitting_stats(player_id, season=year)\n",
    "    if hitting_stats is None:\n",
    "        break\n",
    "    else:\n",
    "        player_stats.append(hitting_stats)\n",
    "\n",
    "df = pd.DataFrame(player_stats)\n",
    "df\n"
   ]
  },
  {
   "cell_type": "markdown",
   "metadata": {},
   "source": [
    "### Get Teams by Season"
   ]
  },
  {
   "cell_type": "code",
   "execution_count": null,
   "metadata": {},
   "outputs": [],
   "source": [
    "from baseball import Baseball\n",
    "\n",
    "\n",
    "season_teams = Baseball().team_data.get_teams_by_season(\"2022\")\n",
    "season_teams\n"
   ]
  },
  {
   "cell_type": "code",
   "execution_count": null,
   "metadata": {},
   "outputs": [],
   "source": [
    "season_teams[0][\"team_id\"]"
   ]
  },
  {
   "cell_type": "code",
   "execution_count": null,
   "metadata": {},
   "outputs": [],
   "source": [
    "import pandas as pd\n",
    "\n",
    "\n",
    "df = pd.DataFrame(season_teams)\n",
    "df"
   ]
  },
  {
   "cell_type": "markdown",
   "metadata": {},
   "source": [
    "### Get 40 man roster"
   ]
  },
  {
   "cell_type": "code",
   "execution_count": null,
   "metadata": {},
   "outputs": [],
   "source": [
    "from baseball import Baseball\n",
    "\n",
    "\n",
    "team_roster = Baseball().team_data.get_40_man_roster(\"119\")\n",
    "team_roster"
   ]
  },
  {
   "cell_type": "code",
   "execution_count": null,
   "metadata": {},
   "outputs": [],
   "source": [
    "help(Baseball().team_data)"
   ]
  }
 ],
 "metadata": {
  "interpreter": {
   "hash": "5cb4c5a19cdfdb0bed0268ea814c514807ee9e7440f691fbb4fb5e0f945f1cd4"
  },
  "kernelspec": {
   "display_name": "Python 3.9.6 64-bit",
   "language": "python",
   "name": "python3"
  },
  "language_info": {
   "codemirror_mode": {
    "name": "ipython",
    "version": 3
   },
   "file_extension": ".py",
   "mimetype": "text/x-python",
   "name": "python",
   "nbconvert_exporter": "python",
   "pygments_lexer": "ipython3",
   "version": "3.9.6"
  },
  "orig_nbformat": 4
 },
 "nbformat": 4,
 "nbformat_minor": 2
}
